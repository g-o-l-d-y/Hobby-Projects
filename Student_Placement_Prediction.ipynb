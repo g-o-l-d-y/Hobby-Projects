{
 "cells": [
  {
   "cell_type": "code",
   "execution_count": 33,
   "metadata": {},
   "outputs": [],
   "source": [
    "import pandas as pd\n",
    "import numpy as np\n",
    "import sklearn as sk\n",
    "import matplotlib.pyplot as plt\n",
    "%matplotlib inline"
   ]
  },
  {
   "cell_type": "code",
   "execution_count": 34,
   "metadata": {},
   "outputs": [
    {
     "name": "stdout",
     "output_type": "stream",
     "text": [
      "   sl_no gender  ssc_p    ssc_b  hsc_p    hsc_b     hsc_s  degree_p  \\\n",
      "0      1      M  67.00   Others  91.00   Others  Commerce     58.00   \n",
      "1      2      M  79.33  Central  78.33   Others   Science     77.48   \n",
      "2      3      M  65.00  Central  68.00  Central      Arts     64.00   \n",
      "3      4      M  56.00  Central  52.00  Central   Science     52.00   \n",
      "4      5      M  85.80  Central  73.60  Central  Commerce     73.30   \n",
      "\n",
      "    degree_t workex  etest_p specialisation  mba_p      status    salary  \n",
      "0   Sci&Tech     No     55.0         Mkt&HR  58.80      Placed  270000.0  \n",
      "1   Sci&Tech    Yes     86.5        Mkt&Fin  66.28      Placed  200000.0  \n",
      "2  Comm&Mgmt     No     75.0        Mkt&Fin  57.80      Placed  250000.0  \n",
      "3   Sci&Tech     No     66.0         Mkt&HR  59.43  Not Placed       NaN  \n",
      "4  Comm&Mgmt     No     96.8        Mkt&Fin  55.50      Placed  425000.0  \n"
     ]
    }
   ],
   "source": [
    "placement=pd.read_csv('.spyder-py3\\Placement_Data.csv')\n",
    "print(placement.head())"
   ]
  },
  {
   "cell_type": "code",
   "execution_count": 35,
   "metadata": {},
   "outputs": [
    {
     "data": {
      "text/html": [
       "<div>\n",
       "<style scoped>\n",
       "    .dataframe tbody tr th:only-of-type {\n",
       "        vertical-align: middle;\n",
       "    }\n",
       "\n",
       "    .dataframe tbody tr th {\n",
       "        vertical-align: top;\n",
       "    }\n",
       "\n",
       "    .dataframe thead th {\n",
       "        text-align: right;\n",
       "    }\n",
       "</style>\n",
       "<table border=\"1\" class=\"dataframe\">\n",
       "  <thead>\n",
       "    <tr style=\"text-align: right;\">\n",
       "      <th></th>\n",
       "      <th>degree_p</th>\n",
       "      <th>workex</th>\n",
       "      <th>etest_p</th>\n",
       "      <th>mba_p</th>\n",
       "      <th>status</th>\n",
       "    </tr>\n",
       "  </thead>\n",
       "  <tbody>\n",
       "    <tr>\n",
       "      <th>0</th>\n",
       "      <td>58.00</td>\n",
       "      <td>No</td>\n",
       "      <td>55.0</td>\n",
       "      <td>58.80</td>\n",
       "      <td>Placed</td>\n",
       "    </tr>\n",
       "    <tr>\n",
       "      <th>1</th>\n",
       "      <td>77.48</td>\n",
       "      <td>Yes</td>\n",
       "      <td>86.5</td>\n",
       "      <td>66.28</td>\n",
       "      <td>Placed</td>\n",
       "    </tr>\n",
       "    <tr>\n",
       "      <th>2</th>\n",
       "      <td>64.00</td>\n",
       "      <td>No</td>\n",
       "      <td>75.0</td>\n",
       "      <td>57.80</td>\n",
       "      <td>Placed</td>\n",
       "    </tr>\n",
       "    <tr>\n",
       "      <th>3</th>\n",
       "      <td>52.00</td>\n",
       "      <td>No</td>\n",
       "      <td>66.0</td>\n",
       "      <td>59.43</td>\n",
       "      <td>Not Placed</td>\n",
       "    </tr>\n",
       "    <tr>\n",
       "      <th>4</th>\n",
       "      <td>73.30</td>\n",
       "      <td>No</td>\n",
       "      <td>96.8</td>\n",
       "      <td>55.50</td>\n",
       "      <td>Placed</td>\n",
       "    </tr>\n",
       "  </tbody>\n",
       "</table>\n",
       "</div>"
      ],
      "text/plain": [
       "   degree_p workex  etest_p  mba_p      status\n",
       "0     58.00     No     55.0  58.80      Placed\n",
       "1     77.48    Yes     86.5  66.28      Placed\n",
       "2     64.00     No     75.0  57.80      Placed\n",
       "3     52.00     No     66.0  59.43  Not Placed\n",
       "4     73.30     No     96.8  55.50      Placed"
      ]
     },
     "execution_count": 35,
     "metadata": {},
     "output_type": "execute_result"
    }
   ],
   "source": [
    "placement=placement.drop(['sl_no','gender','ssc_p','ssc_b','hsc_p','hsc_b','hsc_s','degree_t','specialisation','salary'],axis=1)\n",
    "placement.head()"
   ]
  },
  {
   "cell_type": "code",
   "execution_count": 36,
   "metadata": {},
   "outputs": [],
   "source": [
    "status=list(placement['status'])\n",
    "status=[1 if i=='Placed' else 0 for i in status]\n",
    "placement=placement.drop('status',axis=1)\n",
    "placement['status']=status\n",
    "\n",
    "workex=list(placement['workex'])\n",
    "workex=[1 if i=='Yes' else 0 for i in workex]\n",
    "placement=placement.drop('workex',axis=1)\n",
    "placement['workex']=workex"
   ]
  },
  {
   "cell_type": "code",
   "execution_count": 38,
   "metadata": {},
   "outputs": [],
   "source": [
    "placement.head()\n",
    "x=placement[['degree_p','etest_p','mba_p','workex']]\n",
    "y=placement[['status']]"
   ]
  },
  {
   "cell_type": "code",
   "execution_count": 41,
   "metadata": {},
   "outputs": [],
   "source": [
    "from sklearn.model_selection import train_test_split \n",
    "xtrain, xtest, ytrain, ytest = train_test_split( x, y, test_size = 0.25, random_state = 1) "
   ]
  },
  {
   "cell_type": "code",
   "execution_count": 42,
   "metadata": {},
   "outputs": [],
   "source": [
    "from sklearn.preprocessing import StandardScaler \n",
    "sc_x = StandardScaler() \n",
    "xtrain = sc_x.fit_transform(xtrain)  \n",
    "xtest = sc_x.transform(xtest) \n",
    "  "
   ]
  },
  {
   "cell_type": "code",
   "execution_count": 43,
   "metadata": {},
   "outputs": [
    {
     "name": "stdout",
     "output_type": "stream",
     "text": [
      "[[-0.89736633 -1.07700204  1.19315096 -0.77075249]\n",
      " [ 2.17950686  1.53760097  0.97905103 -0.77075249]\n",
      " [-0.19807697  1.58844475  0.10381054 -0.77075249]\n",
      " [ 0.08163878 -0.25656827 -0.22675975 -0.77075249]\n",
      " [ 1.62007537  0.76724063  1.56140283 -0.77075249]\n",
      " [-0.19807697 -0.77348007 -0.9427099  -0.77075249]\n",
      " [ 0.36135452 -1.41287915 -1.25101379 -0.77075249]\n",
      " [ 0.36135452 -1.27421429 -0.67037479 -0.77075249]\n",
      " [ 0.02569563  1.84574511  1.46206046  1.29743336]\n",
      " [ 0.92078601  0.61316856  0.81119669 -0.77075249]]\n"
     ]
    }
   ],
   "source": [
    "print (xtrain[0:10, :]) "
   ]
  },
  {
   "cell_type": "code",
   "execution_count": 47,
   "metadata": {},
   "outputs": [
    {
     "data": {
      "text/plain": [
       "LogisticRegressionCV(Cs=10, class_weight=None, cv=5, dual=False,\n",
       "                     fit_intercept=True, intercept_scaling=1.0, l1_ratios=None,\n",
       "                     max_iter=100, multi_class='auto', n_jobs=-1, penalty='l2',\n",
       "                     random_state=1, refit=True, scoring='accuracy',\n",
       "                     solver='lbfgs', tol=0.0001, verbose=0)"
      ]
     },
     "execution_count": 47,
     "metadata": {},
     "output_type": "execute_result"
    }
   ],
   "source": [
    "from sklearn.linear_model import LogisticRegressionCV \n",
    "classifier = LogisticRegressionCV(random_state = 1,cv=5,scoring='accuracy',n_jobs=-1,max_iter=100)\n",
    "classifier.fit(xtrain,ytrain.values.ravel()) "
   ]
  },
  {
   "cell_type": "code",
   "execution_count": 48,
   "metadata": {},
   "outputs": [
    {
     "data": {
      "text/plain": [
       "0.8703703703703703"
      ]
     },
     "execution_count": 48,
     "metadata": {},
     "output_type": "execute_result"
    }
   ],
   "source": [
    "classifier.score(xtest,ytest)"
   ]
  }
 ],
 "metadata": {
  "kernelspec": {
   "display_name": "Python 3",
   "language": "python",
   "name": "python3"
  },
  "language_info": {
   "codemirror_mode": {
    "name": "ipython",
    "version": 3
   },
   "file_extension": ".py",
   "mimetype": "text/x-python",
   "name": "python",
   "nbconvert_exporter": "python",
   "pygments_lexer": "ipython3",
   "version": "3.7.7"
  }
 },
 "nbformat": 4,
 "nbformat_minor": 4
}
